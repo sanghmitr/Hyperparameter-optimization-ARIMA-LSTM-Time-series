{
  "cells": [
    {
      "cell_type": "code",
      "execution_count": 1,
      "metadata": {
        "id": "WBlJewlvnOt2"
      },
      "outputs": [],
      "source": [
        "import yfinance as yf\n",
        "import pmdarima as pm\n",
        "from datetime import date\n",
        "import warnings\n",
        "from math import sqrt\n",
        "import matplotlib.pyplot as plt\n",
        "import time\n",
        "import numpy as np\n",
        "import math\n",
        "from sklearn.metrics import mean_squared_error, mean_absolute_error, r2_score"
      ]
    },
    {
      "cell_type": "code",
      "execution_count": 2,
      "metadata": {
        "id": "2Q2LmIIbnWk3"
      },
      "outputs": [],
      "source": [
        "START = \"2015-01-01\"\n",
        "TODAY = date.today().strftime(\"%Y-%m-%d\")"
      ]
    },
    {
      "cell_type": "code",
      "execution_count": 3,
      "metadata": {
        "id": "p14UBZQCnsqy"
      },
      "outputs": [],
      "source": [
        "def load_data(ticker):\n",
        "    data = yf.download(ticker, START, TODAY)\n",
        "    data.reset_index(inplace=True)\n",
        "    return data"
      ]
    },
    {
      "cell_type": "code",
      "execution_count": 4,
      "metadata": {
        "colab": {
          "base_uri": "https://localhost:8080/"
        },
        "id": "Vjeb6mbOnyql",
        "outputId": "e8574bdc-c7a2-4ad0-9c0d-cf44d1368471"
      },
      "outputs": [
        {
          "name": "stdout",
          "output_type": "stream",
          "text": [
            "[*********************100%***********************]  1 of 1 completed\n"
          ]
        }
      ],
      "source": [
        "stock = load_data('AMZN')"
      ]
    },
    {
      "cell_type": "code",
      "execution_count": 5,
      "metadata": {
        "colab": {
          "base_uri": "https://localhost:8080/",
          "height": 206
        },
        "id": "-_6opGcGn_aD",
        "outputId": "81fee95c-0aa2-4dfc-f6fd-63a4ce1f4ae5"
      },
      "outputs": [
        {
          "data": {
            "text/html": [
              "<div>\n",
              "<style scoped>\n",
              "    .dataframe tbody tr th:only-of-type {\n",
              "        vertical-align: middle;\n",
              "    }\n",
              "\n",
              "    .dataframe tbody tr th {\n",
              "        vertical-align: top;\n",
              "    }\n",
              "\n",
              "    .dataframe thead th {\n",
              "        text-align: right;\n",
              "    }\n",
              "</style>\n",
              "<table border=\"1\" class=\"dataframe\">\n",
              "  <thead>\n",
              "    <tr style=\"text-align: right;\">\n",
              "      <th></th>\n",
              "      <th>Date</th>\n",
              "      <th>Open</th>\n",
              "      <th>High</th>\n",
              "      <th>Low</th>\n",
              "      <th>Close</th>\n",
              "      <th>Adj Close</th>\n",
              "      <th>Volume</th>\n",
              "    </tr>\n",
              "  </thead>\n",
              "  <tbody>\n",
              "    <tr>\n",
              "      <th>0</th>\n",
              "      <td>2014-12-31</td>\n",
              "      <td>311.549988</td>\n",
              "      <td>312.980011</td>\n",
              "      <td>310.010010</td>\n",
              "      <td>310.350006</td>\n",
              "      <td>310.350006</td>\n",
              "      <td>2048000</td>\n",
              "    </tr>\n",
              "    <tr>\n",
              "      <th>1</th>\n",
              "      <td>2015-01-02</td>\n",
              "      <td>312.579987</td>\n",
              "      <td>314.750000</td>\n",
              "      <td>306.959991</td>\n",
              "      <td>308.519989</td>\n",
              "      <td>308.519989</td>\n",
              "      <td>2783200</td>\n",
              "    </tr>\n",
              "    <tr>\n",
              "      <th>2</th>\n",
              "      <td>2015-01-05</td>\n",
              "      <td>307.010010</td>\n",
              "      <td>308.380005</td>\n",
              "      <td>300.850006</td>\n",
              "      <td>302.190002</td>\n",
              "      <td>302.190002</td>\n",
              "      <td>2774200</td>\n",
              "    </tr>\n",
              "    <tr>\n",
              "      <th>3</th>\n",
              "      <td>2015-01-06</td>\n",
              "      <td>302.239990</td>\n",
              "      <td>303.000000</td>\n",
              "      <td>292.380005</td>\n",
              "      <td>295.290009</td>\n",
              "      <td>295.290009</td>\n",
              "      <td>3519000</td>\n",
              "    </tr>\n",
              "    <tr>\n",
              "      <th>4</th>\n",
              "      <td>2015-01-07</td>\n",
              "      <td>297.500000</td>\n",
              "      <td>301.279999</td>\n",
              "      <td>295.329987</td>\n",
              "      <td>298.420013</td>\n",
              "      <td>298.420013</td>\n",
              "      <td>2640300</td>\n",
              "    </tr>\n",
              "  </tbody>\n",
              "</table>\n",
              "</div>"
            ],
            "text/plain": [
              "        Date        Open        High         Low       Close   Adj Close  \\\n",
              "0 2014-12-31  311.549988  312.980011  310.010010  310.350006  310.350006   \n",
              "1 2015-01-02  312.579987  314.750000  306.959991  308.519989  308.519989   \n",
              "2 2015-01-05  307.010010  308.380005  300.850006  302.190002  302.190002   \n",
              "3 2015-01-06  302.239990  303.000000  292.380005  295.290009  295.290009   \n",
              "4 2015-01-07  297.500000  301.279999  295.329987  298.420013  298.420013   \n",
              "\n",
              "    Volume  \n",
              "0  2048000  \n",
              "1  2783200  \n",
              "2  2774200  \n",
              "3  3519000  \n",
              "4  2640300  "
            ]
          },
          "execution_count": 5,
          "metadata": {},
          "output_type": "execute_result"
        }
      ],
      "source": [
        "stock.head()"
      ]
    },
    {
      "cell_type": "code",
      "execution_count": 6,
      "metadata": {
        "colab": {
          "base_uri": "https://localhost:8080/",
          "height": 206
        },
        "id": "9_KLwK5XpeaQ",
        "outputId": "eb26a8be-f36e-4e94-f513-2754482a55a1"
      },
      "outputs": [
        {
          "data": {
            "text/html": [
              "<div>\n",
              "<style scoped>\n",
              "    .dataframe tbody tr th:only-of-type {\n",
              "        vertical-align: middle;\n",
              "    }\n",
              "\n",
              "    .dataframe tbody tr th {\n",
              "        vertical-align: top;\n",
              "    }\n",
              "\n",
              "    .dataframe thead th {\n",
              "        text-align: right;\n",
              "    }\n",
              "</style>\n",
              "<table border=\"1\" class=\"dataframe\">\n",
              "  <thead>\n",
              "    <tr style=\"text-align: right;\">\n",
              "      <th></th>\n",
              "      <th>Date</th>\n",
              "      <th>Open</th>\n",
              "      <th>High</th>\n",
              "      <th>Low</th>\n",
              "      <th>Close</th>\n",
              "      <th>Adj Close</th>\n",
              "      <th>Volume</th>\n",
              "    </tr>\n",
              "  </thead>\n",
              "  <tbody>\n",
              "    <tr>\n",
              "      <th>1837</th>\n",
              "      <td>2022-04-19</td>\n",
              "      <td>3040.590088</td>\n",
              "      <td>3172.979980</td>\n",
              "      <td>3031.010010</td>\n",
              "      <td>3162.310059</td>\n",
              "      <td>3162.310059</td>\n",
              "      <td>2746300</td>\n",
              "    </tr>\n",
              "    <tr>\n",
              "      <th>1838</th>\n",
              "      <td>2022-04-20</td>\n",
              "      <td>3152.050049</td>\n",
              "      <td>3152.050049</td>\n",
              "      <td>3072.070068</td>\n",
              "      <td>3079.959961</td>\n",
              "      <td>3079.959961</td>\n",
              "      <td>2981500</td>\n",
              "    </tr>\n",
              "    <tr>\n",
              "      <th>1839</th>\n",
              "      <td>2022-04-21</td>\n",
              "      <td>3094.280029</td>\n",
              "      <td>3134.760010</td>\n",
              "      <td>2951.790039</td>\n",
              "      <td>2965.919922</td>\n",
              "      <td>2965.919922</td>\n",
              "      <td>3198500</td>\n",
              "    </tr>\n",
              "    <tr>\n",
              "      <th>1840</th>\n",
              "      <td>2022-04-22</td>\n",
              "      <td>2965.000000</td>\n",
              "      <td>2992.300049</td>\n",
              "      <td>2873.949951</td>\n",
              "      <td>2887.000000</td>\n",
              "      <td>2887.000000</td>\n",
              "      <td>3649800</td>\n",
              "    </tr>\n",
              "    <tr>\n",
              "      <th>1841</th>\n",
              "      <td>2022-04-25</td>\n",
              "      <td>2880.459961</td>\n",
              "      <td>2924.429932</td>\n",
              "      <td>2846.129883</td>\n",
              "      <td>2921.479980</td>\n",
              "      <td>2921.479980</td>\n",
              "      <td>3089300</td>\n",
              "    </tr>\n",
              "  </tbody>\n",
              "</table>\n",
              "</div>"
            ],
            "text/plain": [
              "           Date         Open         High          Low        Close  \\\n",
              "1837 2022-04-19  3040.590088  3172.979980  3031.010010  3162.310059   \n",
              "1838 2022-04-20  3152.050049  3152.050049  3072.070068  3079.959961   \n",
              "1839 2022-04-21  3094.280029  3134.760010  2951.790039  2965.919922   \n",
              "1840 2022-04-22  2965.000000  2992.300049  2873.949951  2887.000000   \n",
              "1841 2022-04-25  2880.459961  2924.429932  2846.129883  2921.479980   \n",
              "\n",
              "        Adj Close   Volume  \n",
              "1837  3162.310059  2746300  \n",
              "1838  3079.959961  2981500  \n",
              "1839  2965.919922  3198500  \n",
              "1840  2887.000000  3649800  \n",
              "1841  2921.479980  3089300  "
            ]
          },
          "execution_count": 6,
          "metadata": {},
          "output_type": "execute_result"
        }
      ],
      "source": [
        "stock.tail()"
      ]
    },
    {
      "cell_type": "code",
      "execution_count": 7,
      "metadata": {
        "colab": {
          "base_uri": "https://localhost:8080/"
        },
        "id": "AdZPslZSoBlg",
        "outputId": "47b277ea-a1da-4234-f2fd-d7f8418a9fd7"
      },
      "outputs": [
        {
          "data": {
            "text/plain": [
              "(1842, 7)"
            ]
          },
          "execution_count": 7,
          "metadata": {},
          "output_type": "execute_result"
        }
      ],
      "source": [
        "stock.shape"
      ]
    },
    {
      "cell_type": "code",
      "execution_count": 8,
      "metadata": {
        "id": "sllf2u5gpRLV"
      },
      "outputs": [],
      "source": [
        "df = stock[['Date', 'Close']]"
      ]
    },
    {
      "cell_type": "code",
      "execution_count": 9,
      "metadata": {
        "colab": {
          "base_uri": "https://localhost:8080/",
          "height": 206
        },
        "id": "7aDmuN_hpoIh",
        "outputId": "1f0205d6-f624-4070-c85c-d415ce458e4d"
      },
      "outputs": [
        {
          "data": {
            "text/html": [
              "<div>\n",
              "<style scoped>\n",
              "    .dataframe tbody tr th:only-of-type {\n",
              "        vertical-align: middle;\n",
              "    }\n",
              "\n",
              "    .dataframe tbody tr th {\n",
              "        vertical-align: top;\n",
              "    }\n",
              "\n",
              "    .dataframe thead th {\n",
              "        text-align: right;\n",
              "    }\n",
              "</style>\n",
              "<table border=\"1\" class=\"dataframe\">\n",
              "  <thead>\n",
              "    <tr style=\"text-align: right;\">\n",
              "      <th></th>\n",
              "      <th>Date</th>\n",
              "      <th>Close</th>\n",
              "    </tr>\n",
              "  </thead>\n",
              "  <tbody>\n",
              "    <tr>\n",
              "      <th>0</th>\n",
              "      <td>2014-12-31</td>\n",
              "      <td>310.350006</td>\n",
              "    </tr>\n",
              "    <tr>\n",
              "      <th>1</th>\n",
              "      <td>2015-01-02</td>\n",
              "      <td>308.519989</td>\n",
              "    </tr>\n",
              "    <tr>\n",
              "      <th>2</th>\n",
              "      <td>2015-01-05</td>\n",
              "      <td>302.190002</td>\n",
              "    </tr>\n",
              "    <tr>\n",
              "      <th>3</th>\n",
              "      <td>2015-01-06</td>\n",
              "      <td>295.290009</td>\n",
              "    </tr>\n",
              "    <tr>\n",
              "      <th>4</th>\n",
              "      <td>2015-01-07</td>\n",
              "      <td>298.420013</td>\n",
              "    </tr>\n",
              "  </tbody>\n",
              "</table>\n",
              "</div>"
            ],
            "text/plain": [
              "        Date       Close\n",
              "0 2014-12-31  310.350006\n",
              "1 2015-01-02  308.519989\n",
              "2 2015-01-05  302.190002\n",
              "3 2015-01-06  295.290009\n",
              "4 2015-01-07  298.420013"
            ]
          },
          "execution_count": 9,
          "metadata": {},
          "output_type": "execute_result"
        }
      ],
      "source": [
        "df.head()"
      ]
    },
    {
      "cell_type": "code",
      "execution_count": 10,
      "metadata": {
        "colab": {
          "base_uri": "https://localhost:8080/"
        },
        "id": "vMciV6v1pqzf",
        "outputId": "6e37f183-2e4c-4bcb-8de5-8a66b021c829"
      },
      "outputs": [
        {
          "data": {
            "text/plain": [
              "(1842, 2)"
            ]
          },
          "execution_count": 10,
          "metadata": {},
          "output_type": "execute_result"
        }
      ],
      "source": [
        "df.shape"
      ]
    },
    {
      "cell_type": "code",
      "execution_count": 11,
      "metadata": {
        "id": "vlgonlkfxi0S"
      },
      "outputs": [],
      "source": [
        "def trainTestSplit(df):\n",
        "  train_size = int(len(df) * 0.80)\n",
        "  df_train, df_test = df[0:train_size], df[train_size:]\n",
        "  return df_train, df_test"
      ]
    },
    {
      "cell_type": "code",
      "execution_count": 12,
      "metadata": {
        "id": "dMbL_T-uQ_qT"
      },
      "outputs": [],
      "source": [
        "df_train, df_test = trainTestSplit(df)"
      ]
    },
    {
      "cell_type": "code",
      "execution_count": 13,
      "metadata": {
        "colab": {
          "base_uri": "https://localhost:8080/"
        },
        "id": "Dkvj_SvhxdDZ",
        "outputId": "c4a2ab79-23e7-470b-9c60-d29119f6df58"
      },
      "outputs": [
        {
          "data": {
            "text/plain": [
              "(1473, 2)"
            ]
          },
          "execution_count": 13,
          "metadata": {},
          "output_type": "execute_result"
        }
      ],
      "source": [
        "df_train.shape"
      ]
    },
    {
      "cell_type": "code",
      "execution_count": 14,
      "metadata": {
        "colab": {
          "base_uri": "https://localhost:8080/"
        },
        "id": "qM1pYId5xwkZ",
        "outputId": "81b8ea3b-4e4f-486b-f245-6885945def45"
      },
      "outputs": [
        {
          "data": {
            "text/plain": [
              "(369, 2)"
            ]
          },
          "execution_count": 14,
          "metadata": {},
          "output_type": "execute_result"
        }
      ],
      "source": [
        "df_test.shape"
      ]
    },
    {
      "cell_type": "markdown",
      "metadata": {
        "id": "z3tFp6eqP3XF"
      },
      "source": [
        "**Stepwise search Using AutoArima function**"
      ]
    },
    {
      "cell_type": "code",
      "execution_count": 15,
      "metadata": {
        "colab": {
          "base_uri": "https://localhost:8080/"
        },
        "id": "X1layZD0v9uw",
        "outputId": "736b93df-4e28-4a74-e883-d36f41d657cd"
      },
      "outputs": [
        {
          "name": "stdout",
          "output_type": "stream",
          "text": [
            "Performing stepwise search to minimize aic\n",
            " ARIMA(2,1,2)(1,0,1)[12] intercept   : AIC=14351.939, Time=5.79 sec\n",
            " ARIMA(0,1,0)(0,0,0)[12] intercept   : AIC=14389.689, Time=0.03 sec\n",
            " ARIMA(1,1,0)(1,0,0)[12] intercept   : AIC=14382.482, Time=0.63 sec\n",
            " ARIMA(0,1,1)(0,0,1)[12] intercept   : AIC=14383.036, Time=1.10 sec\n",
            " ARIMA(0,1,0)(0,0,0)[12]             : AIC=14393.357, Time=0.02 sec\n",
            " ARIMA(2,1,2)(0,0,1)[12] intercept   : AIC=inf, Time=4.52 sec\n",
            " ARIMA(2,1,2)(1,0,0)[12] intercept   : AIC=14354.425, Time=4.89 sec\n",
            " ARIMA(2,1,2)(2,0,1)[12] intercept   : AIC=14357.682, Time=12.40 sec\n",
            " ARIMA(2,1,2)(1,0,2)[12] intercept   : AIC=14358.444, Time=12.20 sec\n",
            " ARIMA(2,1,2)(0,0,0)[12] intercept   : AIC=14364.976, Time=1.50 sec\n",
            " ARIMA(2,1,2)(0,0,2)[12] intercept   : AIC=14361.408, Time=12.53 sec\n",
            " ARIMA(2,1,2)(2,0,0)[12] intercept   : AIC=14361.534, Time=12.69 sec\n",
            " ARIMA(2,1,2)(2,0,2)[12] intercept   : AIC=14353.538, Time=14.07 sec\n",
            " ARIMA(1,1,2)(1,0,1)[12] intercept   : AIC=14372.739, Time=4.16 sec\n",
            " ARIMA(2,1,1)(1,0,1)[12] intercept   : AIC=14372.819, Time=4.05 sec\n",
            " ARIMA(3,1,2)(1,0,1)[12] intercept   : AIC=14363.964, Time=5.97 sec\n",
            " ARIMA(2,1,3)(1,0,1)[12] intercept   : AIC=14363.389, Time=6.55 sec\n",
            " ARIMA(1,1,1)(1,0,1)[12] intercept   : AIC=14371.133, Time=2.92 sec\n",
            " ARIMA(1,1,3)(1,0,1)[12] intercept   : AIC=14369.683, Time=6.04 sec\n",
            " ARIMA(3,1,1)(1,0,1)[12] intercept   : AIC=14370.923, Time=4.72 sec\n",
            " ARIMA(3,1,3)(1,0,1)[12] intercept   : AIC=14359.161, Time=6.55 sec\n",
            " ARIMA(2,1,2)(1,0,1)[12]             : AIC=inf, Time=3.12 sec\n",
            "\n",
            "Best model:  ARIMA(2,1,2)(1,0,1)[12] intercept\n",
            "Total fit time: 126.516 seconds\n",
            "Total time taken :  126.61591458320618\n",
            "Total time taken :  2.110265243053436\n"
          ]
        }
      ],
      "source": [
        "start_time = time.time()\n",
        "\n",
        "stepWise_model = pm.auto_arima(df_train['Close'].values,\n",
        "                      error_action='ignore', trace=True,\n",
        "                      suppress_warnings=True,\n",
        "                      seasonal=True, m = 12)\n",
        "\n",
        "end_time = time.time()\n",
        "total_time_sec = end_time - start_time\n",
        "total_time_min = total_time_sec/60\n",
        "\n",
        "print(\"Total time taken : \", total_time_sec)\n",
        "print(\"Total time taken : \", total_time_min)"
      ]
    },
    {
      "cell_type": "code",
      "execution_count": 19,
      "metadata": {
        "colab": {
          "base_uri": "https://localhost:8080/",
          "height": 426
        },
        "id": "SDAaGCCLw7ZV",
        "outputId": "f1c5d276-f039-4267-d827-9518c86b3186"
      },
      "outputs": [
        {
          "data": {
            "text/html": [
              "<table class=\"simpletable\">\n",
              "<caption>SARIMAX Results</caption>\n",
              "<tr>\n",
              "  <th>Dep. Variable:</th>                   <td>y</td>                <th>  No. Observations:  </th>   <td>1473</td>   \n",
              "</tr>\n",
              "<tr>\n",
              "  <th>Model:</th>           <td>SARIMAX(2, 1, 2)x(1, 0, [1], 12)</td> <th>  Log Likelihood     </th> <td>-7167.970</td>\n",
              "</tr>\n",
              "<tr>\n",
              "  <th>Date:</th>                    <td>Tue, 26 Apr 2022</td>         <th>  AIC                </th> <td>14351.939</td>\n",
              "</tr>\n",
              "<tr>\n",
              "  <th>Time:</th>                        <td>15:37:34</td>             <th>  BIC                </th> <td>14394.295</td>\n",
              "</tr>\n",
              "<tr>\n",
              "  <th>Sample:</th>                          <td>0</td>                <th>  HQIC               </th> <td>14367.733</td>\n",
              "</tr>\n",
              "<tr>\n",
              "  <th></th>                              <td> - 1473</td>             <th>                     </th>     <td> </td>    \n",
              "</tr>\n",
              "<tr>\n",
              "  <th>Covariance Type:</th>                <td>opg</td>               <th>                     </th>     <td> </td>    \n",
              "</tr>\n",
              "</table>\n",
              "<table class=\"simpletable\">\n",
              "<tr>\n",
              "      <td></td>         <th>coef</th>     <th>std err</th>      <th>z</th>      <th>P>|z|</th>  <th>[0.025</th>    <th>0.975]</th>  \n",
              "</tr>\n",
              "<tr>\n",
              "  <th>intercept</th> <td>    3.0533</td> <td>    5.486</td> <td>    0.557</td> <td> 0.578</td> <td>   -7.700</td> <td>   13.806</td>\n",
              "</tr>\n",
              "<tr>\n",
              "  <th>ar.L1</th>     <td>   -1.8666</td> <td>    0.008</td> <td> -234.855</td> <td> 0.000</td> <td>   -1.882</td> <td>   -1.851</td>\n",
              "</tr>\n",
              "<tr>\n",
              "  <th>ar.L2</th>     <td>   -0.9920</td> <td>    0.008</td> <td> -130.687</td> <td> 0.000</td> <td>   -1.007</td> <td>   -0.977</td>\n",
              "</tr>\n",
              "<tr>\n",
              "  <th>ma.L1</th>     <td>    1.8448</td> <td>    0.011</td> <td>  164.717</td> <td> 0.000</td> <td>    1.823</td> <td>    1.867</td>\n",
              "</tr>\n",
              "<tr>\n",
              "  <th>ma.L2</th>     <td>    0.9753</td> <td>    0.011</td> <td>   91.217</td> <td> 0.000</td> <td>    0.954</td> <td>    0.996</td>\n",
              "</tr>\n",
              "<tr>\n",
              "  <th>ar.S.L12</th>  <td>   -0.5307</td> <td>    0.141</td> <td>   -3.770</td> <td> 0.000</td> <td>   -0.807</td> <td>   -0.255</td>\n",
              "</tr>\n",
              "<tr>\n",
              "  <th>ma.S.L12</th>  <td>    0.6230</td> <td>    0.137</td> <td>    4.558</td> <td> 0.000</td> <td>    0.355</td> <td>    0.891</td>\n",
              "</tr>\n",
              "<tr>\n",
              "  <th>sigma2</th>    <td> 1032.4906</td> <td>   18.570</td> <td>   55.600</td> <td> 0.000</td> <td>  996.094</td> <td> 1068.887</td>\n",
              "</tr>\n",
              "</table>\n",
              "<table class=\"simpletable\">\n",
              "<tr>\n",
              "  <th>Ljung-Box (L1) (Q):</th>     <td>1.46</td>  <th>  Jarque-Bera (JB):  </th> <td>4436.69</td>\n",
              "</tr>\n",
              "<tr>\n",
              "  <th>Prob(Q):</th>                <td>0.23</td>  <th>  Prob(JB):          </th>  <td>0.00</td>  \n",
              "</tr>\n",
              "<tr>\n",
              "  <th>Heteroskedasticity (H):</th> <td>18.13</td> <th>  Skew:              </th>  <td>0.31</td>  \n",
              "</tr>\n",
              "<tr>\n",
              "  <th>Prob(H) (two-sided):</th>    <td>0.00</td>  <th>  Kurtosis:          </th>  <td>11.48</td> \n",
              "</tr>\n",
              "</table><br/><br/>Warnings:<br/>[1] Covariance matrix calculated using the outer product of gradients (complex-step)."
            ],
            "text/plain": [
              "<class 'statsmodels.iolib.summary.Summary'>\n",
              "\"\"\"\n",
              "                                      SARIMAX Results                                       \n",
              "============================================================================================\n",
              "Dep. Variable:                                    y   No. Observations:                 1473\n",
              "Model:             SARIMAX(2, 1, 2)x(1, 0, [1], 12)   Log Likelihood               -7167.970\n",
              "Date:                              Tue, 26 Apr 2022   AIC                          14351.939\n",
              "Time:                                      15:37:34   BIC                          14394.295\n",
              "Sample:                                           0   HQIC                         14367.733\n",
              "                                             - 1473                                         \n",
              "Covariance Type:                                opg                                         \n",
              "==============================================================================\n",
              "                 coef    std err          z      P>|z|      [0.025      0.975]\n",
              "------------------------------------------------------------------------------\n",
              "intercept      3.0533      5.486      0.557      0.578      -7.700      13.806\n",
              "ar.L1         -1.8666      0.008   -234.855      0.000      -1.882      -1.851\n",
              "ar.L2         -0.9920      0.008   -130.687      0.000      -1.007      -0.977\n",
              "ma.L1          1.8448      0.011    164.717      0.000       1.823       1.867\n",
              "ma.L2          0.9753      0.011     91.217      0.000       0.954       0.996\n",
              "ar.S.L12      -0.5307      0.141     -3.770      0.000      -0.807      -0.255\n",
              "ma.S.L12       0.6230      0.137      4.558      0.000       0.355       0.891\n",
              "sigma2      1032.4906     18.570     55.600      0.000     996.094    1068.887\n",
              "===================================================================================\n",
              "Ljung-Box (L1) (Q):                   1.46   Jarque-Bera (JB):              4436.69\n",
              "Prob(Q):                              0.23   Prob(JB):                         0.00\n",
              "Heteroskedasticity (H):              18.13   Skew:                             0.31\n",
              "Prob(H) (two-sided):                  0.00   Kurtosis:                        11.48\n",
              "===================================================================================\n",
              "\n",
              "Warnings:\n",
              "[1] Covariance matrix calculated using the outer product of gradients (complex-step).\n",
              "\"\"\""
            ]
          },
          "execution_count": 19,
          "metadata": {},
          "output_type": "execute_result"
        }
      ],
      "source": [
        "stepWise_model.summary()"
      ]
    },
    {
      "cell_type": "code",
      "execution_count": 16,
      "metadata": {
        "colab": {
          "base_uri": "https://localhost:8080/",
          "height": 1000
        },
        "id": "Umq0rKUcqGbV",
        "outputId": "cec2fea8-aa95-4a27-e4f6-f51179608262"
      },
      "outputs": [],
      "source": [
        "# stepWise_model.plot_diagnostics(figsize=(15,8))"
      ]
    },
    {
      "cell_type": "code",
      "execution_count": 15,
      "metadata": {
        "id": "c9GpU6FtyY38"
      },
      "outputs": [],
      "source": [
        "def rmse(targets, predictions):\n",
        "  rmse = np.sqrt(((targets - predictions) ** 2).mean())\n",
        "  normalised_rmse = rmse/(max(targets) - min(targets))\n",
        "  return normalised_rmse"
      ]
    },
    {
      "cell_type": "code",
      "execution_count": 16,
      "metadata": {
        "id": "TLJ516U_yP8k"
      },
      "outputs": [],
      "source": [
        "def plot_graph_with_confidenceInterval(model, df_test):\n",
        "  test_pred, confint = model.predict(n_periods=len(df_test), return_conf_int=True)\n",
        "  fig, ax = plt.subplots(figsize=(10, 5))\n",
        "  ax.plot(df_test['Date'], df_test['Close'], label='data')\n",
        "  ax.plot(df_test['Date'], test_pred, label='forecast')\n",
        "  # ax.set_xlabel(f'Sunspots (RMSE={np.sqrt(mse(df_test['Close'].to_numpy(), test_pred)):.3f})')\n",
        "  ax.fill_between(df_test['Date'], \\\n",
        "                  confint[:,0], confint[:,1], \\\n",
        "                  color='red', alpha=0.3)\n",
        "  ax.legend();\n",
        "  print(\"RMSE is : \",rmse(df_test['Close'].values, test_pred))\n",
        "  return test_pred"
      ]
    },
    {
      "cell_type": "code",
      "execution_count": 23,
      "metadata": {
        "colab": {
          "base_uri": "https://localhost:8080/",
          "height": 340
        },
        "id": "bMlWY3GEyY7t",
        "outputId": "4ced43d1-26d0-42bf-c220-6d987f0f46c6"
      },
      "outputs": [
        {
          "name": "stdout",
          "output_type": "stream",
          "text": [
            "RMSE is :  0.2055607145445826\n"
          ]
        },
        {
          "data": {
            "image/png": "[encoded data removed]",
            "text/plain": [
              "<Figure size 720x360 with 1 Axes>"
            ]
          },
          "metadata": {
            "needs_background": "light"
          },
          "output_type": "display_data"
        }
      ],
      "source": [
        "predictions = plot_graph_with_confidenceInterval(stepWise_model, df_test)"
      ]
    },
    {
      "cell_type": "code",
      "execution_count": null,
      "metadata": {
        "id": "UedAqyJz6Jrc"
      },
      "outputs": [],
      "source": []
    },
    {
      "cell_type": "markdown",
      "metadata": {
        "id": "trXHXEs3yJgx"
      },
      "source": [
        "# GRID SEARCH"
      ]
    },
    {
      "cell_type": "code",
      "execution_count": 17,
      "metadata": {
        "id": "QA_631FgIjgw"
      },
      "outputs": [],
      "source": [
        "df_gridsearch = stock[['Date', 'Close']]"
      ]
    },
    {
      "cell_type": "markdown",
      "metadata": {
        "id": "-hrpydDfPBRh"
      },
      "source": [
        "**Grid search for pmdarima library**"
      ]
    },
    {
      "cell_type": "code",
      "execution_count": 18,
      "metadata": {
        "id": "IceOLumWPAgK"
      },
      "outputs": [],
      "source": [
        "def pmdarima_model(data, arima_order, seasonal_order):\n",
        "  # Fit an ARIMA\n",
        "  model = pm.ARIMA(arima_order, seasonal_order=seasonal_order, suppress_warnings=True)\n",
        "  model.fit(data)\n",
        "  return model, model.aic()"
      ]
    },
    {
      "cell_type": "code",
      "execution_count": 19,
      "metadata": {
        "id": "0thB2y10O3vH"
      },
      "outputs": [],
      "source": [
        "# evaluate combinations of p, d and q values for an ARIMA model\n",
        "def evaluate_pmdarima_models(dataset, p_values, d_values, q_values, P_values, D_values, Q_values, s_values):\n",
        "\tdataset = dataset.astype('float32')\n",
        "\tbest_score, best_cfg = float(\"inf\"), None\n",
        "\tfor p in p_values:\n",
        "\t\tfor d in d_values:\n",
        "\t\t\tfor q in q_values:\n",
        "\t\t\t\torder = (p,d,q)\n",
        "\t\t\t\tfor P in P_values:\n",
        "\t\t\t\t\tfor D in D_values:\n",
        "\t\t\t\t\t\tfor Q in Q_values:\n",
        "\t\t\t\t\t\t\tfor s in s_values:\n",
        "\t\t\t\t\t\t\t\tseasonal_order = (P,D,Q,s)\n",
        "\t\t\t\t\t\t\t\ttry:\n",
        "\t\t\t\t\t\t\t\t\tmodel, aic = pmdarima_model(dataset, order, seasonal_order)\n",
        "\t\t\t\t\t\t\t\t\tif aic < best_score:\n",
        "\t\t\t\t\t\t\t\t\t\tbest_score, best_cfg = aic, (order, seasonal_order)\n",
        "\t\t\t\t\t\t\t\t\tprint('ARIMA%s%s AIC=%.3f' % (order,seasonal_order, aic))\n",
        "\t\t\t\t\t\t\t\texcept:\n",
        "\t\t\t\t\t\t\t\t\tcontinue\n",
        "\t\t\t\t# try:\n",
        "\t\t\t\t# \t#rmse = evaluate_arima_model(dataset, order)\n",
        "\t\t\t\t# \tmodel, aic = pmdarima_model(dataset, order)\n",
        "\t\t\t\t# \tif aic < best_score:\n",
        "\t\t\t\t# \t\tbest_score, best_cfg = aic, order\n",
        "\t\t\t\t# \tprint('ARIMA%s AIC=%.3f' % (order,aic))\n",
        "\t\t\t\t# except:\n",
        "\t\t\t\t# \tcontinue\n",
        "\tprint('Best ARIMA%s AIC=%.3f' % (best_cfg, best_score))\n",
        "\treturn best_cfg"
      ]
    },
    {
      "cell_type": "code",
      "execution_count": 21,
      "metadata": {
        "id": "XPrEAPFOQuno"
      },
      "outputs": [],
      "source": [
        "train_gridsearch, test_gridsearch = trainTestSplit(df_gridsearch)"
      ]
    },
    {
      "cell_type": "markdown",
      "metadata": {},
      "source": [
        "Set the hyperparameter range for grid search"
      ]
    },
    {
      "cell_type": "code",
      "execution_count": 25,
      "metadata": {},
      "outputs": [],
      "source": [
        "p_values = range(0, 4)\n",
        "d_values = range(0, 2)\n",
        "q_values = range(0, 4)\n",
        "seasonal_p_values = range(0,2)\n",
        "seasonal_d_values = range(0,1)\n",
        "seasonal_q_values = range(0,2)\n",
        "seasonal_s_values = range(0,4)\n",
        "warnings.filterwarnings(\"ignore\")"
      ]
    },
    {
      "cell_type": "code",
      "execution_count": 26,
      "metadata": {
        "colab": {
          "base_uri": "https://localhost:8080/"
        },
        "id": "fPGIbwt9qugP",
        "outputId": "8913374f-8f18-49db-d677-bb40cfbf9a43"
      },
      "outputs": [
        {
          "name": "stdout",
          "output_type": "stream",
          "text": [
            "ARIMA(0, 0, 0)(0, 0, 0, 0) AIC=23668.719\n",
            "ARIMA(0, 0, 0)(0, 0, 0, 1) AIC=23668.719\n",
            "ARIMA(0, 0, 0)(0, 0, 0, 2) AIC=23668.719\n",
            "ARIMA(0, 0, 0)(0, 0, 0, 3) AIC=23668.719\n",
            "ARIMA(0, 0, 0)(0, 0, 1, 2) AIC=21784.007\n",
            "ARIMA(0, 0, 0)(0, 0, 1, 3) AIC=21783.023\n",
            "ARIMA(0, 0, 0)(1, 0, 0, 2) AIC=15302.306\n",
            "ARIMA(0, 0, 0)(1, 0, 0, 3) AIC=15899.960\n",
            "ARIMA(0, 0, 0)(1, 0, 1, 2) AIC=17572.276\n",
            "ARIMA(0, 0, 0)(1, 0, 1, 3) AIC=20025.633\n",
            "ARIMA(0, 0, 1)(0, 0, 0, 0) AIC=21813.264\n",
            "ARIMA(0, 0, 1)(0, 0, 0, 1) AIC=21813.264\n",
            "ARIMA(0, 0, 1)(0, 0, 0, 2) AIC=21813.264\n",
            "ARIMA(0, 0, 1)(0, 0, 0, 3) AIC=21813.264\n",
            "ARIMA(0, 0, 1)(0, 0, 1, 2) AIC=19969.769\n",
            "ARIMA(0, 0, 1)(0, 0, 1, 3) AIC=20677.121\n",
            "ARIMA(0, 0, 1)(1, 0, 0, 2) AIC=14416.779\n",
            "ARIMA(0, 0, 1)(1, 0, 0, 3) AIC=20442.901\n",
            "ARIMA(0, 0, 1)(1, 0, 1, 2) AIC=15684.094\n",
            "ARIMA(0, 0, 1)(1, 0, 1, 3) AIC=19835.774\n",
            "ARIMA(0, 0, 2)(0, 0, 0, 0) AIC=20618.832\n",
            "ARIMA(0, 0, 2)(0, 0, 0, 1) AIC=20618.832\n",
            "ARIMA(0, 0, 2)(0, 0, 0, 2) AIC=20618.832\n",
            "ARIMA(0, 0, 2)(0, 0, 0, 3) AIC=20618.832\n",
            "ARIMA(0, 0, 2)(0, 0, 1, 3) AIC=20207.335\n",
            "ARIMA(0, 0, 2)(1, 0, 0, 2) AIC=19510.529\n",
            "ARIMA(0, 0, 2)(1, 0, 0, 3) AIC=20519.545\n",
            "ARIMA(0, 0, 2)(1, 0, 1, 3) AIC=19004.312\n",
            "ARIMA(0, 0, 3)(0, 0, 0, 0) AIC=19968.022\n",
            "ARIMA(0, 0, 3)(0, 0, 0, 1) AIC=19968.022\n",
            "ARIMA(0, 0, 3)(0, 0, 0, 2) AIC=19968.022\n",
            "ARIMA(0, 0, 3)(0, 0, 0, 3) AIC=19968.022\n",
            "ARIMA(0, 0, 3)(1, 0, 0, 2) AIC=15537.224\n",
            "ARIMA(0, 0, 3)(1, 0, 0, 3) AIC=19137.360\n",
            "ARIMA(0, 1, 0)(0, 0, 0, 0) AIC=14389.689\n",
            "ARIMA(0, 1, 0)(0, 0, 0, 1) AIC=14389.689\n",
            "ARIMA(0, 1, 0)(0, 0, 0, 2) AIC=14389.689\n",
            "ARIMA(0, 1, 0)(0, 0, 0, 3) AIC=14389.689\n",
            "ARIMA(0, 1, 0)(0, 0, 1, 2) AIC=14389.142\n",
            "ARIMA(0, 1, 0)(0, 0, 1, 3) AIC=14382.469\n",
            "ARIMA(0, 1, 0)(1, 0, 0, 2) AIC=14388.933\n",
            "ARIMA(0, 1, 0)(1, 0, 0, 3) AIC=14383.029\n",
            "ARIMA(0, 1, 0)(1, 0, 1, 2) AIC=14390.355\n",
            "ARIMA(0, 1, 0)(1, 0, 1, 3) AIC=14384.326\n",
            "ARIMA(0, 1, 1)(0, 0, 0, 0) AIC=14382.068\n",
            "ARIMA(0, 1, 1)(0, 0, 0, 1) AIC=14382.068\n",
            "ARIMA(0, 1, 1)(0, 0, 0, 2) AIC=14382.068\n",
            "ARIMA(0, 1, 1)(0, 0, 0, 3) AIC=14382.068\n",
            "ARIMA(0, 1, 1)(0, 0, 1, 2) AIC=14382.186\n",
            "ARIMA(0, 1, 1)(0, 0, 1, 3) AIC=14376.233\n",
            "ARIMA(0, 1, 1)(1, 0, 0, 2) AIC=14382.040\n",
            "ARIMA(0, 1, 1)(1, 0, 0, 3) AIC=14376.689\n",
            "ARIMA(0, 1, 1)(1, 0, 1, 2) AIC=14383.567\n",
            "ARIMA(0, 1, 1)(1, 0, 1, 3) AIC=14378.085\n",
            "ARIMA(0, 1, 2)(0, 0, 0, 0) AIC=14382.692\n",
            "ARIMA(0, 1, 2)(0, 0, 0, 1) AIC=14382.692\n",
            "ARIMA(0, 1, 2)(0, 0, 0, 2) AIC=14382.692\n",
            "ARIMA(0, 1, 2)(0, 0, 0, 3) AIC=14382.692\n",
            "ARIMA(0, 1, 2)(0, 0, 1, 3) AIC=14376.339\n",
            "ARIMA(0, 1, 2)(1, 0, 0, 2) AIC=14379.573\n",
            "ARIMA(0, 1, 2)(1, 0, 0, 3) AIC=14376.794\n",
            "ARIMA(0, 1, 2)(1, 0, 1, 3) AIC=14378.216\n",
            "ARIMA(0, 1, 3)(0, 0, 0, 0) AIC=14377.032\n",
            "ARIMA(0, 1, 3)(0, 0, 0, 1) AIC=14377.032\n",
            "ARIMA(0, 1, 3)(0, 0, 0, 2) AIC=14377.032\n",
            "ARIMA(0, 1, 3)(0, 0, 0, 3) AIC=14377.032\n",
            "ARIMA(0, 1, 3)(1, 0, 0, 2) AIC=14378.424\n",
            "ARIMA(0, 1, 3)(1, 0, 0, 3) AIC=14378.795\n",
            "ARIMA(1, 0, 0)(0, 0, 0, 0) AIC=14414.452\n",
            "ARIMA(1, 0, 0)(0, 0, 0, 1) AIC=14414.452\n",
            "ARIMA(1, 0, 0)(0, 0, 0, 2) AIC=14414.452\n",
            "ARIMA(1, 0, 0)(0, 0, 0, 3) AIC=14414.452\n",
            "ARIMA(1, 0, 0)(0, 0, 1, 2) AIC=14413.478\n",
            "ARIMA(1, 0, 0)(0, 0, 1, 3) AIC=14408.272\n",
            "ARIMA(1, 0, 0)(1, 0, 0, 2) AIC=14413.212\n",
            "ARIMA(1, 0, 0)(1, 0, 0, 3) AIC=14408.696\n",
            "ARIMA(1, 0, 0)(1, 0, 1, 2) AIC=14418.150\n",
            "ARIMA(1, 0, 0)(1, 0, 1, 3) AIC=14417.133\n",
            "ARIMA(1, 0, 1)(0, 0, 0, 0) AIC=14407.832\n",
            "ARIMA(1, 0, 1)(0, 0, 0, 1) AIC=14407.832\n",
            "ARIMA(1, 0, 1)(0, 0, 0, 2) AIC=14407.832\n",
            "ARIMA(1, 0, 1)(0, 0, 0, 3) AIC=14407.832\n",
            "ARIMA(1, 0, 1)(0, 0, 1, 2) AIC=14407.515\n",
            "ARIMA(1, 0, 1)(0, 0, 1, 3) AIC=14403.002\n",
            "ARIMA(1, 0, 1)(1, 0, 0, 2) AIC=14409.649\n",
            "ARIMA(1, 0, 1)(1, 0, 0, 3) AIC=14403.346\n",
            "ARIMA(1, 0, 1)(1, 0, 1, 2) AIC=14411.399\n",
            "ARIMA(1, 0, 1)(1, 0, 1, 3) AIC=14411.390\n",
            "ARIMA(1, 0, 2)(0, 0, 0, 0) AIC=14408.021\n",
            "ARIMA(1, 0, 2)(0, 0, 0, 1) AIC=14408.021\n",
            "ARIMA(1, 0, 2)(0, 0, 0, 2) AIC=14408.021\n",
            "ARIMA(1, 0, 2)(0, 0, 0, 3) AIC=14408.021\n",
            "ARIMA(1, 0, 2)(0, 0, 1, 3) AIC=14402.642\n",
            "ARIMA(1, 0, 2)(1, 0, 0, 2) AIC=14418.210\n",
            "ARIMA(1, 0, 2)(1, 0, 0, 3) AIC=14407.485\n",
            "ARIMA(1, 0, 2)(1, 0, 1, 3) AIC=14413.259\n",
            "ARIMA(1, 0, 3)(0, 0, 0, 0) AIC=14403.356\n",
            "ARIMA(1, 0, 3)(0, 0, 0, 1) AIC=14403.356\n",
            "ARIMA(1, 0, 3)(0, 0, 0, 2) AIC=14403.356\n",
            "ARIMA(1, 0, 3)(0, 0, 0, 3) AIC=14403.356\n",
            "ARIMA(1, 0, 3)(1, 0, 0, 2) AIC=14410.448\n",
            "ARIMA(1, 0, 3)(1, 0, 0, 3) AIC=14422.814\n",
            "ARIMA(1, 1, 0)(0, 0, 0, 0) AIC=14381.407\n",
            "ARIMA(1, 1, 0)(0, 0, 0, 1) AIC=14381.407\n",
            "ARIMA(1, 1, 0)(0, 0, 0, 2) AIC=14381.407\n",
            "ARIMA(1, 1, 0)(0, 0, 0, 3) AIC=14381.407\n",
            "ARIMA(1, 1, 0)(0, 0, 1, 2) AIC=14382.157\n",
            "ARIMA(1, 1, 0)(0, 0, 1, 3) AIC=14375.663\n",
            "ARIMA(1, 1, 0)(1, 0, 0, 2) AIC=14382.069\n",
            "ARIMA(1, 1, 0)(1, 0, 0, 3) AIC=14376.107\n",
            "ARIMA(1, 1, 0)(1, 0, 1, 2) AIC=14383.638\n",
            "ARIMA(1, 1, 0)(1, 0, 1, 3) AIC=14377.519\n",
            "ARIMA(1, 1, 1)(0, 0, 0, 0) AIC=14377.988\n",
            "ARIMA(1, 1, 1)(0, 0, 0, 1) AIC=14377.988\n",
            "ARIMA(1, 1, 1)(0, 0, 0, 2) AIC=14377.988\n",
            "ARIMA(1, 1, 1)(0, 0, 0, 3) AIC=14377.988\n",
            "ARIMA(1, 1, 1)(0, 0, 1, 2) AIC=14379.649\n",
            "ARIMA(1, 1, 1)(0, 0, 1, 3) AIC=14375.930\n",
            "ARIMA(1, 1, 1)(1, 0, 0, 2) AIC=14379.627\n",
            "ARIMA(1, 1, 1)(1, 0, 0, 3) AIC=14376.209\n",
            "ARIMA(1, 1, 1)(1, 0, 1, 2) AIC=14378.046\n",
            "ARIMA(1, 1, 1)(1, 0, 1, 3) AIC=14377.778\n",
            "ARIMA(1, 1, 2)(0, 0, 0, 0) AIC=14379.752\n",
            "ARIMA(1, 1, 2)(0, 0, 0, 1) AIC=14379.752\n",
            "ARIMA(1, 1, 2)(0, 0, 0, 2) AIC=14379.752\n",
            "ARIMA(1, 1, 2)(0, 0, 0, 3) AIC=14379.752\n",
            "ARIMA(1, 1, 2)(0, 0, 1, 3) AIC=14377.922\n",
            "ARIMA(1, 1, 2)(1, 0, 0, 2) AIC=14376.472\n",
            "ARIMA(1, 1, 2)(1, 0, 0, 3) AIC=14378.197\n",
            "ARIMA(1, 1, 2)(1, 0, 1, 3) AIC=14379.774\n",
            "ARIMA(1, 1, 3)(0, 0, 0, 0) AIC=14376.529\n",
            "ARIMA(1, 1, 3)(0, 0, 0, 1) AIC=14376.529\n",
            "ARIMA(1, 1, 3)(0, 0, 0, 2) AIC=14376.529\n",
            "ARIMA(1, 1, 3)(0, 0, 0, 3) AIC=14376.529\n",
            "ARIMA(1, 1, 3)(1, 0, 0, 2) AIC=14378.453\n",
            "ARIMA(1, 1, 3)(1, 0, 0, 3) AIC=14377.363\n",
            "ARIMA(2, 0, 0)(0, 0, 0, 0) AIC=14407.161\n",
            "ARIMA(2, 0, 0)(0, 0, 0, 1) AIC=14407.161\n",
            "ARIMA(2, 0, 0)(0, 0, 0, 2) AIC=14407.161\n",
            "ARIMA(2, 0, 0)(0, 0, 0, 3) AIC=14407.161\n",
            "ARIMA(2, 0, 0)(0, 0, 1, 2) AIC=14407.540\n",
            "ARIMA(2, 0, 0)(0, 0, 1, 3) AIC=14402.425\n",
            "ARIMA(2, 0, 0)(1, 0, 0, 3) AIC=14402.744\n",
            "ARIMA(2, 0, 0)(1, 0, 1, 3) AIC=14409.566\n",
            "ARIMA(2, 0, 1)(0, 0, 0, 0) AIC=14403.802\n",
            "ARIMA(2, 0, 1)(0, 0, 0, 1) AIC=14403.802\n",
            "ARIMA(2, 0, 1)(0, 0, 0, 2) AIC=14403.802\n",
            "ARIMA(2, 0, 1)(0, 0, 0, 3) AIC=14403.802\n",
            "ARIMA(2, 0, 1)(0, 0, 1, 2) AIC=14417.463\n",
            "ARIMA(2, 0, 1)(0, 0, 1, 3) AIC=14412.201\n",
            "ARIMA(2, 0, 1)(1, 0, 0, 3) AIC=14412.599\n",
            "ARIMA(2, 0, 1)(1, 0, 1, 3) AIC=14414.155\n",
            "ARIMA(2, 0, 2)(0, 0, 0, 0) AIC=14411.765\n",
            "ARIMA(2, 0, 2)(0, 0, 0, 1) AIC=14411.765\n",
            "ARIMA(2, 0, 2)(0, 0, 0, 2) AIC=14411.765\n",
            "ARIMA(2, 0, 2)(0, 0, 0, 3) AIC=14411.765\n",
            "ARIMA(2, 0, 2)(0, 0, 1, 3) AIC=14406.253\n",
            "ARIMA(2, 0, 2)(1, 0, 0, 3) AIC=14406.553\n",
            "ARIMA(2, 0, 2)(1, 0, 1, 3) AIC=14406.785\n",
            "ARIMA(2, 0, 3)(0, 0, 0, 0) AIC=14411.702\n",
            "ARIMA(2, 0, 3)(0, 0, 0, 1) AIC=14411.702\n",
            "ARIMA(2, 0, 3)(0, 0, 0, 2) AIC=14411.702\n",
            "ARIMA(2, 0, 3)(0, 0, 0, 3) AIC=14411.702\n",
            "ARIMA(2, 0, 3)(1, 0, 0, 3) AIC=14404.774\n",
            "ARIMA(2, 1, 0)(0, 0, 0, 0) AIC=14381.496\n",
            "ARIMA(2, 1, 0)(0, 0, 0, 1) AIC=14381.496\n",
            "ARIMA(2, 1, 0)(0, 0, 0, 2) AIC=14381.496\n",
            "ARIMA(2, 1, 0)(0, 0, 0, 3) AIC=14381.496\n",
            "ARIMA(2, 1, 0)(0, 0, 1, 2) AIC=14379.733\n",
            "ARIMA(2, 1, 0)(0, 0, 1, 3) AIC=14376.238\n",
            "ARIMA(2, 1, 0)(1, 0, 0, 3) AIC=14376.640\n",
            "ARIMA(2, 1, 0)(1, 0, 1, 3) AIC=14378.114\n",
            "ARIMA(2, 1, 1)(0, 0, 0, 0) AIC=14379.802\n",
            "ARIMA(2, 1, 1)(0, 0, 0, 1) AIC=14379.802\n",
            "ARIMA(2, 1, 1)(0, 0, 0, 2) AIC=14379.802\n",
            "ARIMA(2, 1, 1)(0, 0, 0, 3) AIC=14379.802\n",
            "ARIMA(2, 1, 1)(0, 0, 1, 2) AIC=14378.889\n",
            "ARIMA(2, 1, 1)(0, 0, 1, 3) AIC=14378.225\n",
            "ARIMA(2, 1, 1)(1, 0, 0, 3) AIC=14378.198\n",
            "ARIMA(2, 1, 1)(1, 0, 1, 3) AIC=14379.773\n",
            "ARIMA(2, 1, 2)(0, 0, 0, 0) AIC=14364.976\n",
            "ARIMA(2, 1, 2)(0, 0, 0, 1) AIC=14364.976\n",
            "ARIMA(2, 1, 2)(0, 0, 0, 2) AIC=14364.976\n",
            "ARIMA(2, 1, 2)(0, 0, 0, 3) AIC=14364.976\n",
            "ARIMA(2, 1, 2)(0, 0, 1, 3) AIC=14379.913\n",
            "ARIMA(2, 1, 2)(1, 0, 0, 3) AIC=14361.533\n",
            "ARIMA(2, 1, 2)(1, 0, 1, 3) AIC=14363.920\n",
            "ARIMA(2, 1, 3)(0, 0, 0, 0) AIC=14362.595\n",
            "ARIMA(2, 1, 3)(0, 0, 0, 1) AIC=14362.595\n",
            "ARIMA(2, 1, 3)(0, 0, 0, 2) AIC=14362.595\n",
            "ARIMA(2, 1, 3)(0, 0, 0, 3) AIC=14362.595\n",
            "ARIMA(2, 1, 3)(1, 0, 0, 3) AIC=14379.363\n",
            "ARIMA(3, 0, 0)(0, 0, 0, 0) AIC=14406.772\n",
            "ARIMA(3, 0, 0)(0, 0, 0, 1) AIC=14406.772\n",
            "ARIMA(3, 0, 0)(0, 0, 0, 2) AIC=14406.772\n",
            "ARIMA(3, 0, 0)(0, 0, 0, 3) AIC=14406.772\n",
            "ARIMA(3, 0, 0)(0, 0, 1, 2) AIC=14412.808\n",
            "ARIMA(3, 0, 0)(0, 0, 1, 3) AIC=14402.645\n",
            "ARIMA(3, 0, 1)(0, 0, 0, 0) AIC=14411.032\n",
            "ARIMA(3, 0, 1)(0, 0, 0, 1) AIC=14411.032\n",
            "ARIMA(3, 0, 1)(0, 0, 0, 2) AIC=14411.032\n",
            "ARIMA(3, 0, 1)(0, 0, 0, 3) AIC=14411.032\n",
            "ARIMA(3, 0, 1)(0, 0, 1, 2) AIC=14411.089\n",
            "ARIMA(3, 0, 1)(0, 0, 1, 3) AIC=14405.437\n",
            "ARIMA(3, 0, 2)(0, 0, 0, 0) AIC=14390.200\n",
            "ARIMA(3, 0, 2)(0, 0, 0, 1) AIC=14390.200\n",
            "ARIMA(3, 0, 2)(0, 0, 0, 2) AIC=14390.200\n",
            "ARIMA(3, 0, 2)(0, 0, 0, 3) AIC=14390.200\n",
            "ARIMA(3, 0, 2)(0, 0, 1, 3) AIC=14385.845\n",
            "ARIMA(3, 0, 3)(0, 0, 0, 0) AIC=14386.703\n",
            "ARIMA(3, 0, 3)(0, 0, 0, 1) AIC=14386.703\n",
            "ARIMA(3, 0, 3)(0, 0, 0, 2) AIC=14386.703\n",
            "ARIMA(3, 0, 3)(0, 0, 0, 3) AIC=14386.703\n",
            "ARIMA(3, 1, 0)(0, 0, 0, 0) AIC=14376.237\n",
            "ARIMA(3, 1, 0)(0, 0, 0, 1) AIC=14376.237\n",
            "ARIMA(3, 1, 0)(0, 0, 0, 2) AIC=14376.237\n",
            "ARIMA(3, 1, 0)(0, 0, 0, 3) AIC=14376.237\n",
            "ARIMA(3, 1, 0)(0, 0, 1, 2) AIC=14378.230\n",
            "ARIMA(3, 1, 0)(0, 0, 1, 3) AIC=14378.175\n",
            "ARIMA(3, 1, 1)(0, 0, 0, 0) AIC=14377.583\n",
            "ARIMA(3, 1, 1)(0, 0, 0, 1) AIC=14377.583\n",
            "ARIMA(3, 1, 1)(0, 0, 0, 2) AIC=14377.583\n",
            "ARIMA(3, 1, 1)(0, 0, 0, 3) AIC=14377.583\n",
            "ARIMA(3, 1, 1)(0, 0, 1, 2) AIC=14377.194\n",
            "ARIMA(3, 1, 1)(0, 0, 1, 3) AIC=14379.550\n",
            "ARIMA(3, 1, 2)(0, 0, 0, 0) AIC=14363.379\n",
            "ARIMA(3, 1, 2)(0, 0, 0, 1) AIC=14363.379\n",
            "ARIMA(3, 1, 2)(0, 0, 0, 2) AIC=14363.379\n",
            "ARIMA(3, 1, 2)(0, 0, 0, 3) AIC=14363.379\n",
            "ARIMA(3, 1, 2)(0, 0, 1, 3) AIC=14364.468\n",
            "ARIMA(3, 1, 3)(0, 0, 0, 0) AIC=14367.128\n",
            "ARIMA(3, 1, 3)(0, 0, 0, 1) AIC=14367.128\n",
            "ARIMA(3, 1, 3)(0, 0, 0, 2) AIC=14367.128\n",
            "ARIMA(3, 1, 3)(0, 0, 0, 3) AIC=14367.128\n",
            "Best ARIMA((2, 1, 2), (1, 0, 0, 3)) AIC=14361.533\n",
            "Total time taken :  293.9780914783478\n",
            "Total time taken :  4.899634857972463\n"
          ]
        }
      ],
      "source": [
        "#start the timer\n",
        "start_time = time.time()\n",
        "\n",
        "best_configuration = evaluate_pmdarima_models(train_gridsearch['Close'].values, p_values, d_values, q_values, seasonal_p_values, seasonal_d_values, seasonal_q_values, seasonal_s_values)\n",
        "\n",
        "#stop the timer\n",
        "end_time = time.time()\n",
        "total_time_sec = end_time - start_time\n",
        "total_time_min = total_time_sec/60\n",
        "\n",
        "print(\"Total time taken : \", total_time_sec)\n",
        "print(\"Total time taken : \", total_time_min)"
      ]
    },
    {
      "cell_type": "code",
      "execution_count": 29,
      "metadata": {},
      "outputs": [
        {
          "name": "stdout",
          "output_type": "stream",
          "text": [
            "(2, 1, 2)\n",
            "(1, 0, 0, 3)\n"
          ]
        }
      ],
      "source": [
        "order, seasonal_order = best_configuration\n",
        "print(order)\n",
        "print(seasonal_order)"
      ]
    },
    {
      "cell_type": "code",
      "execution_count": 30,
      "metadata": {
        "colab": {
          "base_uri": "https://localhost:8080/",
          "height": 356
        },
        "id": "qcvN7e67q4ic",
        "outputId": "8503feb2-89b7-4229-d39b-c148f586a85e"
      },
      "outputs": [
        {
          "name": "stdout",
          "output_type": "stream",
          "text": [
            "AIC is :  14361.53301812716\n",
            "RMSE is :  0.39546814421038773\n"
          ]
        },
        {
          "data": {
            "image/png": "[encoded data removed]",
            "text/plain": [
              "<Figure size 720x360 with 1 Axes>"
            ]
          },
          "metadata": {
            "needs_background": "light"
          },
          "output_type": "display_data"
        }
      ],
      "source": [
        "model1, aic = pmdarima_model(train_gridsearch['Close'].values, order, seasonal_order)\n",
        "print(\"AIC is : \", aic)\n",
        "predictions_gridsearch = plot_graph_with_confidenceInterval(model1, test_gridsearch)"
      ]
    },
    {
      "cell_type": "code",
      "execution_count": null,
      "metadata": {
        "id": "5WdAaXHKY7f2"
      },
      "outputs": [],
      "source": []
    },
    {
      "cell_type": "code",
      "execution_count": null,
      "metadata": {
        "id": "9f6GAItQZHXM"
      },
      "outputs": [],
      "source": []
    },
    {
      "cell_type": "markdown",
      "metadata": {
        "id": "xEm4PLGlZILI"
      },
      "source": [
        "# Bayesian Search"
      ]
    },
    {
      "cell_type": "code",
      "execution_count": 41,
      "metadata": {},
      "outputs": [],
      "source": [
        "df_bayes = stock[['Date', 'Close']]"
      ]
    },
    {
      "cell_type": "code",
      "execution_count": 42,
      "metadata": {},
      "outputs": [],
      "source": [
        "train_bayes, test_bayes = trainTestSplit(df_bayes)"
      ]
    },
    {
      "cell_type": "code",
      "execution_count": 43,
      "metadata": {
        "id": "63dM5uWMZHSG"
      },
      "outputs": [],
      "source": [
        "from skopt.searchcv import BayesSearchCV\n",
        "from skopt.space import Integer, Real, Categorical \n",
        "from skopt.utils import use_named_args\n",
        "from skopt import gp_minimize"
      ]
    },
    {
      "cell_type": "code",
      "execution_count": 59,
      "metadata": {
        "id": "QkbC5pZBaG0x"
      },
      "outputs": [],
      "source": [
        "def pmdarima_model_Bayesian(data, arima_order, seasonal_order):\n",
        "  # Fit an ARIMA\n",
        "  model = pm.ARIMA(arima_order, seasonal_order=seasonal_order, suppress_warnings=True)\n",
        "  model.fit(data)\n",
        "  return model.aic()"
      ]
    },
    {
      "cell_type": "code",
      "execution_count": 65,
      "metadata": {
        "id": "5reQmbNpZSEq"
      },
      "outputs": [],
      "source": [
        "# define the space of hyperparameters to search\n",
        "search_space = list()\n",
        "search_space.append(Integer(0, 5, name='p'))\n",
        "search_space.append(Integer(0, 3, name='d'))\n",
        "search_space.append(Integer(0, 5, name='q'))\n",
        "search_space.append(Integer(0, 2, name='P'))\n",
        "search_space.append(Integer(0, 1, name='D'))\n",
        "search_space.append(Integer(0, 2, name='Q'))\n",
        "search_space.append(Integer(2, 12, name='s'))"
      ]
    },
    {
      "cell_type": "code",
      "execution_count": 90,
      "metadata": {
        "id": "ZB1tI18QZhb9"
      },
      "outputs": [],
      "source": [
        "# define the function used to evaluate a given configuration\n",
        "\n",
        "@use_named_args(search_space)\n",
        "def evaluate_model_BayesianSearch(p, d, q, P, D, Q, s):\n",
        "    # print(\"--------------------------------------\")\n",
        "    aic = float(7879139474)\n",
        "    if(p == P or q == Q or d == D):\n",
        "        return aic\n",
        "    # else:\n",
        "    #     aic =  pmdarima_model_Bayesian(train_bayes['Close'].values, (p,d,q), seasonal_order=(P,D,Q,s))\n",
        "    try:\n",
        "        aic = pmdarima_model_Bayesian(train_bayes['Close'].values, (p,d,q), seasonal_order=(P,D,Q,s))\n",
        "    except:\n",
        "        return aic\n",
        "\n",
        "    order = ((p,d,q),(P,D,Q,s))\n",
        "    print(order)\n",
        "    print(aic)\n",
        "    return aic"
      ]
    },
    {
      "cell_type": "code",
      "execution_count": 94,
      "metadata": {
        "colab": {
          "base_uri": "https://localhost:8080/"
        },
        "id": "z8jVxcVAZxyl",
        "outputId": "57e39cad-1687-4cd7-8bfc-3d9342f3236d"
      },
      "outputs": [
        {
          "name": "stdout",
          "output_type": "stream",
          "text": [
            "Iteration No: 1 started. Evaluating function at random point.\n",
            "Iteration No: 1 ended. Evaluation done at random point.\n",
            "Time taken: 0.0030\n",
            "Function value obtained: 7879139474.0000\n",
            "Current minimum: 7879139474.0000\n",
            "Iteration No: 2 started. Evaluating function at random point.\n",
            "((1, 2, 2), (0, 1, 0, 6))\n",
            "15283.007943413115\n",
            "Iteration No: 2 ended. Evaluation done at random point.\n",
            "Time taken: 2.9577\n",
            "Function value obtained: 15283.0079\n",
            "Current minimum: 15283.0079\n",
            "Iteration No: 3 started. Evaluating function at random point.\n",
            "((4, 0, 0), (0, 1, 1, 7))\n",
            "14346.651393125427\n",
            "Iteration No: 3 ended. Evaluation done at random point.\n",
            "Time taken: 4.6638\n",
            "Function value obtained: 14346.6514\n",
            "Current minimum: 14346.6514\n",
            "Iteration No: 4 started. Evaluating function at random point.\n",
            "((2, 3, 3), (0, 1, 1, 5))\n",
            "14954.432779919858\n",
            "Iteration No: 4 ended. Evaluation done at random point.\n",
            "Time taken: 18.1197\n",
            "Function value obtained: 14954.4328\n",
            "Current minimum: 14346.6514\n",
            "Iteration No: 5 started. Evaluating function at random point.\n",
            "Iteration No: 5 ended. Evaluation done at random point.\n",
            "Time taken: 0.0010\n",
            "Function value obtained: 7879139474.0000\n",
            "Current minimum: 14346.6514\n",
            "Iteration No: 6 started. Evaluating function at random point.\n",
            "((3, 2, 1), (2, 1, 0, 5))\n",
            "14812.377285618059\n",
            "Iteration No: 6 ended. Evaluation done at random point.\n",
            "Time taken: 4.3287\n",
            "Function value obtained: 14812.3773\n",
            "Current minimum: 14346.6514\n",
            "Iteration No: 7 started. Evaluating function at random point.\n",
            "((1, 0, 0), (2, 1, 1, 7))\n",
            "14354.379414462233\n",
            "Iteration No: 7 ended. Evaluation done at random point.\n",
            "Time taken: 5.6482\n",
            "Function value obtained: 14354.3794\n",
            "Current minimum: 14346.6514\n",
            "Iteration No: 8 started. Evaluating function at random point.\n",
            "((3, 2, 4), (1, 0, 1, 10))\n",
            "14366.679608994455\n",
            "Iteration No: 8 ended. Evaluation done at random point.\n",
            "Time taken: 9.1910\n",
            "Function value obtained: 14366.6796\n",
            "Current minimum: 14346.6514\n",
            "Iteration No: 9 started. Evaluating function at random point.\n",
            "Iteration No: 9 ended. Evaluation done at random point.\n",
            "Time taken: 0.0010\n",
            "Function value obtained: 7879139474.0000\n",
            "Current minimum: 14346.6514\n",
            "Iteration No: 10 started. Evaluating function at random point.\n",
            "((3, 2, 3), (1, 0, 0, 7))\n",
            "14366.211435000845\n",
            "Iteration No: 10 ended. Evaluation done at random point.\n",
            "Time taken: 5.5997\n",
            "Function value obtained: 14366.2114\n",
            "Current minimum: 14346.6514\n",
            "Iteration No: 11 started. Searching for the next optimal point.\n",
            "Iteration No: 11 ended. Search finished for the next optimal point.\n",
            "Time taken: 0.4485\n",
            "Function value obtained: 7879139474.0000\n",
            "Current minimum: 14346.6514\n",
            "Iteration No: 12 started. Searching for the next optimal point.\n",
            "((3, 0, 0), (1, 1, 1, 7))\n",
            "14353.300067432587\n",
            "Iteration No: 12 ended. Search finished for the next optimal point.\n",
            "Time taken: 7.4298\n",
            "Function value obtained: 14353.3001\n",
            "Current minimum: 14346.6514\n",
            "Iteration No: 13 started. Searching for the next optimal point.\n",
            "((3, 0, 0), (1, 1, 1, 7))\n",
            "14353.300067432587\n",
            "Iteration No: 13 ended. Search finished for the next optimal point.\n",
            "Time taken: 6.8685\n",
            "Function value obtained: 14353.3001\n",
            "Current minimum: 14346.6514\n",
            "Iteration No: 14 started. Searching for the next optimal point.\n",
            "((2, 2, 2), (1, 1, 0, 6))\n",
            "14829.546939124732\n",
            "Iteration No: 14 ended. Search finished for the next optimal point.\n",
            "Time taken: 6.2352\n",
            "Function value obtained: 14829.5469\n",
            "Current minimum: 14346.6514\n",
            "Iteration No: 15 started. Searching for the next optimal point.\n",
            "((3, 0, 0), (1, 1, 1, 7))\n",
            "14353.300067432587\n",
            "Iteration No: 15 ended. Search finished for the next optimal point.\n",
            "Time taken: 7.2447\n",
            "Function value obtained: 14353.3001\n",
            "Current minimum: 14346.6514\n",
            "Total time taken :  78.77506184577942\n",
            "Total time taken :  1.312917697429657\n"
          ]
        }
      ],
      "source": [
        "#start the timer\n",
        "start_time = time.time()\n",
        "\n",
        "# perform optimization\n",
        "result = gp_minimize(\n",
        "    func=evaluate_model_BayesianSearch,\n",
        "    dimensions=search_space,\n",
        "    n_calls=15,\n",
        "    verbose=True\n",
        ")\n",
        "\n",
        "#stop the timer\n",
        "end_time = time.time()\n",
        "total_time_sec = end_time - start_time\n",
        "total_time_min = total_time_sec/60\n",
        "\n",
        "print(\"Total time taken : \", total_time_sec)\n",
        "print(\"Total time taken : \", total_time_min)"
      ]
    },
    {
      "cell_type": "code",
      "execution_count": 95,
      "metadata": {
        "colab": {
          "base_uri": "https://localhost:8080/"
        },
        "id": "ZcudiMyCbOF6",
        "outputId": "828a8b93-aa82-4be5-9561-b23e947a763d"
      },
      "outputs": [
        {
          "name": "stdout",
          "output_type": "stream",
          "text": [
            "Best Accuracy: 14346.651\n",
            "Best Parameters: (4, 0, 0)(0, 1, 1, 7)\n"
          ]
        }
      ],
      "source": [
        "print('Best Accuracy: %.3f' % (result.fun))\n",
        "order = (result.x[0], result.x[1], result.x[2])\n",
        "seasonal_order = (result.x[3], result.x[4], result.x[5], result.x[6])\n",
        "print('Best Parameters: %s%s' % (order, seasonal_order))"
      ]
    },
    {
      "cell_type": "code",
      "execution_count": 96,
      "metadata": {
        "colab": {
          "base_uri": "https://localhost:8080/",
          "height": 356
        },
        "id": "D1KslnePbfAK",
        "outputId": "5c8cd541-b1f2-4584-9fda-df3acf2405a8"
      },
      "outputs": [
        {
          "name": "stdout",
          "output_type": "stream",
          "text": [
            "AIC is :  14346.651393125427\n",
            "RMSE is :  0.3527289744659815\n"
          ]
        },
        {
          "data": {
            "text/plain": [
              "array([3241.08683224, 3244.51280034, 3227.48336549, 3232.97200453,\n",
              "       3224.90435109, 3234.2464895 , 3231.9554639 , 3242.68952619,\n",
              "       3242.38642853, 3239.47017503, 3243.1477065 , 3235.86599035,\n",
              "       3244.1355486 , 3242.07741308, 3252.72285431, 3252.5184049 ,\n",
              "       3249.58833412, 3253.28725035, 3246.00834551, 3254.29074063,\n",
              "       3252.24175894, 3262.89813914, 3262.7036726 , 3259.78392044,\n",
              "       3263.49294676, 3256.22420713, 3264.51669977, 3262.47780156,\n",
              "       3273.14422592, 3272.95977607, 3270.050008  , 3273.76898835,\n",
              "       3266.51017165, 3274.81255674, 3272.78352035, 3283.45977609,\n",
              "       3283.28512725, 3280.38512991, 3284.11385082, 3276.86474459,\n",
              "       3285.17681016, 3283.15742434, 3293.84330085, 3293.67824305,\n",
              "       3290.78780714, 3294.52605993, 3287.28645615, 3295.6079948 ,\n",
              "       3293.59805281, 3304.29334399, 3304.13767177, 3301.25659245,\n",
              "       3305.00417294, 3297.77386803, 3306.10467684, 3304.10397637,\n",
              "       3314.80848052, 3314.66199282, 3311.79006965, 3315.546778  ,\n",
              "       3308.32557277, 3316.66545314, 3314.67379622, 3325.38731598,\n",
              "       3325.24981604, 3322.38685287, 3326.15249354, 3318.94019304,\n",
              "       3327.28895065, 3325.30614353, 3336.02848576, 3335.89978104,\n",
              "       3333.04558592, 3336.81996757, 3329.61638104, 3337.9738257 ,\n",
              "       3335.9996788 , 3346.7306545 , 3346.61055659, 3343.76494169,\n",
              "       3347.54787705, 3340.35281781, 3348.71876343, 3346.75309123,\n",
              "       3357.49251545, 3357.38083996, 3354.54362147, 3358.33492731,\n",
              "       3351.14821269, 3359.52247715, 3357.56509809, 3368.31278985,\n",
              "       3368.20935635, 3365.38035439, 3369.17985139, 3362.00130262,\n",
              "       3370.38370771, 3368.43444415, 3379.19022632, 3379.09485825,\n",
              "       3376.27389681, 3380.08140948, 3372.91085164, 3381.30122297,\n",
              "       3379.35990103, 3390.12360031, 3390.03612489, 3387.22303171,\n",
              "       3391.03838835, 3383.87565024, 3392.27381715, 3390.34026671,\n",
              "       3401.11171348, 3401.03196163, 3398.22656816, 3402.04960072,\n",
              "       3394.89451483, 3403.30031032, 3401.3743649 , 3412.15339319,\n",
              "       3412.08119945, 3409.28334074, 3413.11388479, 3405.96628718,\n",
              "       3414.37954782, 3412.4610445 , 3423.2474919 , 3423.18269435,\n",
              "       3420.39220899, 3424.23010361, 3417.08983387, 3425.51039974,\n",
              "       3423.59917909, 3434.39288666, 3434.33532685, 3431.55205689,\n",
              "       3435.39714461, 3428.26404575, 3436.69176036, 3434.78766636,\n",
              "       3445.58847857, 3445.53800146, 3442.76179231, 3446.61391904,\n",
              "       3439.48783745, 3447.92254765, 3446.02542763, 3456.83319229,\n",
              "       3456.78964614, 3454.02034655, 3457.87936149, 3450.76014684,\n",
              "       3459.20170276, 3457.31140733, 3468.12597548, 3468.08921182,\n",
              "       3465.32667377, 3469.19242936, 3462.07993454, 3470.52818954,\n",
              "       3468.64457248, 3479.46579839, 3479.43567192, 3476.67975055,\n",
              "       3480.55210239, 3473.44618344, 3481.900994  , 3480.02391226,\n",
              "       3490.85165329, 3490.82802182, 3488.07857539, 3491.95738218,\n",
              "       3484.85789823, 3493.31912391, 3491.44843748, 3502.28255407,\n",
              "       3502.26527846, 3499.52216826, 3503.4072917 , 3496.3141049 ,\n",
              "       3504.78160829, 3502.91718016, 3513.75753572, 3513.74647982,\n",
              "       3511.00957011, 3514.90087489, 3507.81385033, 3516.28749693,\n",
              "       3514.42919303, 3525.27565392, 3525.27068447, 3522.53984242,\n",
              "       3526.43719612, 3519.3562018 , 3527.83586001, 3525.98354915,\n",
              "       3536.83598456, 3536.83697119, 3534.11206682, 3538.01533985,\n",
              "       3530.94024658, 3539.42578761, 3537.57934141, 3548.43762336,\n",
              "       3548.44443847, 3545.72534457, 3549.63441013, 3542.56509149,\n",
              "       3551.05638932, 3549.21568214, 3560.07968537, 3560.0922041 ,\n",
              "       3557.3787962 , 3561.2935302 , 3554.22986249, 3562.72679379,\n",
              "       3560.89170268, 3571.76130464, 3571.7794048 , 3569.07156109,\n",
              "       3572.99184209, 3565.93370425, 3574.43614834, 3572.60655299,\n",
              "       3583.48163374, 3583.50519576, 3580.80279704, 3584.72850621,\n",
              "       3577.67577978, 3586.18361856, 3584.35940124, 3595.2398434 ,\n",
              "       3595.26875028, 3592.5716799 , 3596.50270097, 3589.45527002,\n",
              "       3597.96838792, 3596.14943341, 3607.03512213, 3607.06925936,\n",
              "       3604.37740319, 3608.31362234, 3601.27137343, 3609.78965736,\n",
              "       3607.97585292, 3618.86667581, 3618.90593135, 3616.21917767,\n",
              "       3620.16048356, 3613.12330567, 3621.64664496, 3619.83788027,\n",
              "       3630.73372734, 3630.77799154, 3628.09623105, 3632.0425147 ,\n",
              "       3625.0102992 , 3633.53858556, 3631.73475265, 3642.63551626,\n",
              "       3642.68468182, 3640.00780755, 3643.95896233, 3636.93160291,\n",
              "       3645.46473035, 3643.66572357, 3654.57129841, 3654.62526032,\n",
              "       3651.9531676 , 3655.90908916, 3648.88648179, 3657.4243466 ,\n",
              "       3655.63006256, 3666.54034555, 3666.59900108, 3663.93158747,\n",
              "       3667.89217369, 3660.87421657, 3669.41671727, 3667.6270548 ,\n",
              "       3678.54194508, 3678.60519367, 3675.94235893, 3679.90750988,\n",
              "       3672.8941034 , 3681.44114067, 3679.65600076, 3690.57539963,\n",
              "       3690.64314288, 3687.98478893, 3691.95440682, 3684.94545348,\n",
              "       3693.49693014, 3691.71621591, 3702.64002679, 3702.71216842,\n",
              "       3700.05819926, 3704.0321884 , 3697.0275928 , 3705.58341375,\n",
              "       3703.80703038, 3714.73515875, 3714.81160453, 3712.16192623,\n",
              "       3716.14019298, 3709.13986177, 3717.69993394, 3715.92778866,\n",
              "       3726.86014203, 3726.94079976, 3724.29532039, 3728.27777311,\n",
              "       3721.28161494, 3729.84584725, 3728.07784927, 3739.01433713,\n",
              "       3739.09911658, 3736.4577462 , 3740.4442952 , 3733.45222068,\n",
              "       3742.02052402, 3740.25658449, 3751.19711826, 3751.28593112,\n",
              "       3748.64858171, 3752.63913925, 3745.65106088, 3754.22334804,\n",
              "       3752.46338002, 3763.40787303, 3763.50063291, 3760.86721831,\n",
              "       3764.86169852, 3757.87753071, 3766.45371633, 3764.69763474,\n",
              "       3775.64600218, 3775.74262451, 3773.11306044, 3777.11137929,\n",
              "       3770.13103825, 3778.71103883, 3776.95876041, 3787.91091927,\n",
              "       3788.01132132, 3785.38552529, 3789.38760053, 3782.41100429,\n",
              "       3790.99473809, 3789.24618137, 3800.20205044, 3800.30615123,\n",
              "       3797.68404251, 3801.68979368, 3794.71686201, 3803.30424908,\n",
              "       3801.55933433, 3812.51883411, 3812.62655441, 3810.00805401,\n",
              "       3814.01740237, 3807.04805676, 3815.63901882, 3813.89766802,\n",
              "       3824.86072074, 3824.971983  , 3822.35701364, 3826.36988211,\n",
              "       3819.40404575])"
            ]
          },
          "execution_count": 96,
          "metadata": {},
          "output_type": "execute_result"
        },
        {
          "data": {
            "image/png": "[encoded data removed]",
            "text/plain": [
              "<Figure size 720x360 with 1 Axes>"
            ]
          },
          "metadata": {
            "needs_background": "light"
          },
          "output_type": "display_data"
        }
      ],
      "source": [
        "Bayes_model, aic = pmdarima_model(train_bayes['Close'].values, order, seasonal_order)\n",
        "print(\"AIC is : \", aic)\n",
        "plot_graph_with_confidenceInterval(Bayes_model, test_bayes)"
      ]
    },
    {
      "cell_type": "code",
      "execution_count": null,
      "metadata": {
        "id": "Zm_EhaaCHfLx"
      },
      "outputs": [],
      "source": []
    }
  ],
  "metadata": {
    "colab": {
      "name": "Optimization_ARIMA_Test.ipynb",
      "provenance": []
    },
    "kernelspec": {
      "display_name": "Python 3",
      "name": "python3"
    },
    "language_info": {
      "codemirror_mode": {
        "name": "ipython",
        "version": 3
      },
      "file_extension": ".py",
      "mimetype": "text/x-python",
      "name": "python",
      "nbconvert_exporter": "python",
      "pygments_lexer": "ipython3",
      "version": "3.10.0"
    }
  },
  "nbformat": 4,
  "nbformat_minor": 0
}
